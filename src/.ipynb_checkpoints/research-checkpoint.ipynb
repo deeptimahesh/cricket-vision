{
 "cells": [
  {
   "cell_type": "code",
   "execution_count": 6,
   "metadata": {},
   "outputs": [],
   "source": [
    "import cv2\n",
    "import numpy as np\n",
    "import imutils\n",
    "import matplotlib.pyplot as plt"
   ]
  },
  {
   "cell_type": "markdown",
   "metadata": {},
   "source": [
    "## Code for Extracting Frames"
   ]
  },
  {
   "cell_type": "code",
   "execution_count": 10,
   "metadata": {},
   "outputs": [],
   "source": [
    "# frames = []\n",
    "# # cap = cv2.VideoCapture(0)\n",
    "# cam = cv2.VideoCapture(\"../data/9.mp4\")\n",
    "# sec = 0\n",
    "# frameRate = 0.1\n",
    "# while cam.isOpened():\n",
    "#     sec = sec + frameRate\n",
    "#     sec = round(sec, 3)\n",
    "#     cam.set(cv2.CAP_PROP_POS_MSEC,sec*1000)\n",
    "#     hasFrames,image = cam.read()\n",
    "    \n",
    "#     # Grab a grayscale image (We will refer to this as the previous frame)\n",
    "#     if hasFrames == True:\n",
    "#         frames.append(image)\n",
    "#     else:\n",
    "#         break\n",
    "\n",
    "# cam.release()"
   ]
  },
  {
   "cell_type": "markdown",
   "metadata": {},
   "source": [
    "## Code for Extracting Audio"
   ]
  },
  {
   "cell_type": "code",
   "execution_count": 18,
   "metadata": {},
   "outputs": [],
   "source": [
    "import subprocess\n",
    "\n",
    "cmd = \"ffmpeg -i ~/Documents/cricket-vision/data/9.mp4 -ab 160k -ac 2 -ar 44100 -vn ../data/audio.wav\"\n",
    "var = subprocess.call(cmd, shell=True)"
   ]
  },
  {
   "cell_type": "code",
   "execution_count": 59,
   "metadata": {},
   "outputs": [
    {
     "name": "stdout",
     "output_type": "stream",
     "text": [
      "44100\n"
     ]
    },
    {
     "data": {
      "image/png": "[encoded data removed]",
      "text/plain": [
       "<Figure size 432x288 with 1 Axes>"
      ]
     },
     "metadata": {
      "needs_background": "light"
     },
     "output_type": "display_data"
    }
   ],
   "source": [
    "from scipy.io.wavfile import read\n",
    "import matplotlib.pyplot as plt\n",
    "\n",
    "rate, audio = read(\"../data/audio.wav\")\n",
    "print(rate)\n",
    "\n",
    "plt.plot(audio)\n",
    "plt.ylabel(\"Amplitude\")\n",
    "plt.xlabel(\"Time\")\n",
    "plt.title(\"Sample Wav\")\n",
    "plt.show()"
   ]
  },
  {
   "cell_type": "code",
   "execution_count": 42,
   "metadata": {},
   "outputs": [
    {
     "data": {
      "text/plain": [
       "array([[95743, 95743],\n",
       "       [95744, 95744],\n",
       "       [95742, 95742],\n",
       "       [95745, 95745],\n",
       "       [95741, 95741],\n",
       "       [97017, 97017],\n",
       "       [95756, 95756],\n",
       "       [95757, 95757],\n",
       "       [97016, 97016],\n",
       "       [95746, 95746]])"
      ]
     },
     "execution_count": 42,
     "metadata": {},
     "output_type": "execute_result"
    }
   ],
   "source": [
    "audio.argsort(axis=0)[-10:][::-1]"
   ]
  },
  {
   "cell_type": "markdown",
   "metadata": {},
   "source": [
    "## Steps to do:\n",
    "* Group into windows if lot more peaks are found\n",
    "* Check for frequency perspective\n",
    "* Learn MFCC\n",
    "* Gather more data from matches\n",
    "* Normalize data\n",
    "\n",
    "Checking for say 5 windows among the data <- figure out a way to get five highest peaks\n",
    "\n",
    "Choose sampling frequency\n"
   ]
  },
  {
   "cell_type": "markdown",
   "metadata": {},
   "source": [
    "## Smoothening"
   ]
  },
  {
   "cell_type": "code",
   "execution_count": 110,
   "metadata": {},
   "outputs": [],
   "source": [
    "from scipy.signal import find_peaks\n",
    "import scipy"
   ]
  },
  {
   "cell_type": "code",
   "execution_count": 77,
   "metadata": {},
   "outputs": [],
   "source": [
    "X = scipy.fft.fft(audio)\n",
    "X[X<6000] = 0\n",
    "audio_defft = scipy.fft.ifft(X)"
   ]
  },
  {
   "cell_type": "markdown",
   "metadata": {},
   "source": [
    "## Peak Detection"
   ]
  },
  {
   "cell_type": "code",
   "execution_count": 109,
   "metadata": {},
   "outputs": [
    {
     "data": {
      "text/plain": [
       "<matplotlib.collections.PathCollection at 0x7f9db4b1f790>"
      ]
     },
     "execution_count": 109,
     "metadata": {},
     "output_type": "execute_result"
    },
    {
     "data": {
      "image/png": "[encoded data removed]",
      "text/plain": [
       "<Figure size 720x720 with 1 Axes>"
      ]
     },
     "metadata": {
      "needs_background": "light"
     },
     "output_type": "display_data"
    }
   ],
   "source": [
    "audio_defft = scipy.fft.ifft(X)\n",
    "plt.figure(figsize=(10,10))\n",
    "plt.plot(audio_defft)\n",
    "peaks, info = find_peaks(audio_defft[:,1], distance=10**4)\n",
    "plt.scatter(peaks, [audio_defft[i][0] for i in peaks])"
   ]
  },
  {
   "cell_type": "code",
   "execution_count": 112,
   "metadata": {},
   "outputs": [
    {
     "data": {
      "text/plain": [
       "174989"
      ]
     },
     "execution_count": 112,
     "metadata": {},
     "output_type": "execute_result"
    }
   ],
   "source": [
    "len(X)"
   ]
  },
  {
   "cell_type": "code",
   "execution_count": null,
   "metadata": {},
   "outputs": [],
   "source": [
    "s"
   ]
  }
 ],
 "metadata": {
  "file_extension": ".py",
  "kernelspec": {
   "display_name": "Python 3",
   "language": "python",
   "name": "python3"
  },
  "language_info": {
   "codemirror_mode": {
    "name": "ipython",
    "version": 3
   },
   "file_extension": ".py",
   "mimetype": "text/x-python",
   "name": "python",
   "nbconvert_exporter": "python",
   "pygments_lexer": "ipython3",
   "version": "3.7.6"
  },
  "mimetype": "text/x-python",
  "name": "python",
  "npconvert_exporter": "python",
  "pygments_lexer": "ipython3",
  "version": 3
 },
 "nbformat": 4,
 "nbformat_minor": 4
}
